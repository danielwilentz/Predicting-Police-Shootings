{
 "cells": [
  {
   "cell_type": "code",
   "execution_count": 6,
   "metadata": {},
   "outputs": [
    {
     "data": {
      "text/html": [
       "<style>.container { width:95% !important; }</style>"
      ],
      "text/plain": [
       "<IPython.core.display.HTML object>"
      ]
     },
     "metadata": {},
     "output_type": "display_data"
    }
   ],
   "source": [
    "# Make better use of Jupyter Notebook cell width\n",
    "from IPython.core.display import display, HTML\n",
    "display(HTML(\"<style>.container { width:95% !important; }</style>\"))"
   ]
  },
  {
   "cell_type": "code",
   "execution_count": 7,
   "metadata": {},
   "outputs": [],
   "source": [
    "# Import the usual suspects. Any new functions will be introduced individually for clarity.\n",
    "import pandas as pd\n",
    "import numpy as np\n",
    "\n",
    "from sklearn.model_selection import train_test_split, GridSearchCV\n",
    "from sklearn.linear_model import LogisticRegression, LinearRegression\n",
    "from sklearn.metrics import accuracy_score, confusion_matrix, f1_score, auc\n",
    "from sklearn.metrics import recall_score, roc_auc_score, roc_curve, classification_report\n",
    "from sklearn.ensemble import GradientBoostingClassifier\n",
    "from sklearn.neighbors import KNeighborsClassifier\n",
    "from sklearn.datasets import make_classification\n",
    "from sklearn.naive_bayes import GaussianNB\n",
    "from sklearn.svm import LinearSVC, SVC\n",
    "from sklearn.tree import DecisionTreeClassifier\n",
    "from sklearn.ensemble import RandomForestClassifier\n",
    "from collections import Counter, OrderedDict\n",
    "from xgboost import XGBClassifier\n",
    "import os\n",
    "os.environ['KMP_DUPLICATE_LIB_OK']='True'\n",
    "\n",
    "import matplotlib.pyplot as plt\n",
    "import seaborn as sns\n",
    "from mlxtend.plotting import plot_decision_regions\n",
    "%matplotlib inline\n",
    "\n",
    "# make prettier plots\n",
    "%config InlineBackend.figure_format = 'svg' \n",
    "sns.set()"
   ]
  },
  {
   "cell_type": "code",
   "execution_count": 8,
   "metadata": {},
   "outputs": [],
   "source": [
    "# Load training and validation data\n",
    "X_tr = pd.read_pickle('data/X_tr.pkl')\n",
    "X_val = pd.read_pickle('data/X_val.pkl')\n",
    "X_te = pd.read_pickle('data/X_te.pkl')\n",
    "\n",
    "y_tr = pd.read_pickle('data/y_tr.pkl')\n",
    "y_val = pd.read_pickle('data/y_val.pkl')\n",
    "y_te = pd.read_pickle('data/y_te.pkl')"
   ]
  },
  {
   "cell_type": "code",
   "execution_count": 9,
   "metadata": {},
   "outputs": [
    {
     "data": {
      "text/plain": [
       "2777    1\n",
       "393     1\n",
       "205     1\n",
       "2023    0\n",
       "2951    0\n",
       "dtype: int64"
      ]
     },
     "execution_count": 9,
     "metadata": {},
     "output_type": "execute_result"
    }
   ],
   "source": [
    "y_tr.head()"
   ]
  },
  {
   "cell_type": "code",
   "execution_count": 10,
   "metadata": {},
   "outputs": [
    {
     "data": {
      "text/html": [
       "<div>\n",
       "<style scoped>\n",
       "    .dataframe tbody tr th:only-of-type {\n",
       "        vertical-align: middle;\n",
       "    }\n",
       "\n",
       "    .dataframe tbody tr th {\n",
       "        vertical-align: top;\n",
       "    }\n",
       "\n",
       "    .dataframe thead th {\n",
       "        text-align: right;\n",
       "    }\n",
       "</style>\n",
       "<table border=\"1\" class=\"dataframe\">\n",
       "  <thead>\n",
       "    <tr style=\"text-align: right;\">\n",
       "      <th></th>\n",
       "      <th>Hispanic</th>\n",
       "      <th>White</th>\n",
       "      <th>Black</th>\n",
       "      <th>Native</th>\n",
       "      <th>Asian</th>\n",
       "      <th>Pacific</th>\n",
       "      <th>VotingAgeCitizen</th>\n",
       "      <th>IncomePerCap</th>\n",
       "      <th>Poverty</th>\n",
       "      <th>ChildPoverty</th>\n",
       "      <th>...</th>\n",
       "      <th>OtherTransp</th>\n",
       "      <th>WorkAtHome</th>\n",
       "      <th>MeanCommute</th>\n",
       "      <th>Employed</th>\n",
       "      <th>PrivateWork</th>\n",
       "      <th>PublicWork</th>\n",
       "      <th>SelfEmployed</th>\n",
       "      <th>FamilyWork</th>\n",
       "      <th>Unemployment</th>\n",
       "      <th>percent_men</th>\n",
       "    </tr>\n",
       "  </thead>\n",
       "  <tbody>\n",
       "    <tr>\n",
       "      <th>0</th>\n",
       "      <td>0.026000</td>\n",
       "      <td>0.405948</td>\n",
       "      <td>-0.598919</td>\n",
       "      <td>-0.194252</td>\n",
       "      <td>0.210922</td>\n",
       "      <td>0.735115</td>\n",
       "      <td>-1.747167</td>\n",
       "      <td>-0.714128</td>\n",
       "      <td>-0.149208</td>\n",
       "      <td>-0.847519</td>\n",
       "      <td>...</td>\n",
       "      <td>0.689423</td>\n",
       "      <td>0.206995</td>\n",
       "      <td>-1.154697</td>\n",
       "      <td>0.543083</td>\n",
       "      <td>0.221199</td>\n",
       "      <td>0.248489</td>\n",
       "      <td>-0.844623</td>\n",
       "      <td>-0.152798</td>\n",
       "      <td>-1.006841</td>\n",
       "      <td>0.088284</td>\n",
       "    </tr>\n",
       "    <tr>\n",
       "      <th>1</th>\n",
       "      <td>-0.132038</td>\n",
       "      <td>0.127748</td>\n",
       "      <td>0.136934</td>\n",
       "      <td>-0.221638</td>\n",
       "      <td>-0.220980</td>\n",
       "      <td>-0.190445</td>\n",
       "      <td>-0.552169</td>\n",
       "      <td>-0.186248</td>\n",
       "      <td>-0.315568</td>\n",
       "      <td>-0.328132</td>\n",
       "      <td>...</td>\n",
       "      <td>0.001389</td>\n",
       "      <td>0.243693</td>\n",
       "      <td>0.845883</td>\n",
       "      <td>0.285569</td>\n",
       "      <td>0.774543</td>\n",
       "      <td>-0.596601</td>\n",
       "      <td>-0.549674</td>\n",
       "      <td>-0.152798</td>\n",
       "      <td>-0.174886</td>\n",
       "      <td>-0.139230</td>\n",
       "    </tr>\n",
       "    <tr>\n",
       "      <th>2</th>\n",
       "      <td>3.214239</td>\n",
       "      <td>-2.013398</td>\n",
       "      <td>-0.418710</td>\n",
       "      <td>-0.098402</td>\n",
       "      <td>0.174930</td>\n",
       "      <td>0.040945</td>\n",
       "      <td>-3.033734</td>\n",
       "      <td>-1.009202</td>\n",
       "      <td>0.998675</td>\n",
       "      <td>0.986236</td>\n",
       "      <td>...</td>\n",
       "      <td>0.251583</td>\n",
       "      <td>-0.380168</td>\n",
       "      <td>0.411795</td>\n",
       "      <td>-1.209726</td>\n",
       "      <td>0.348894</td>\n",
       "      <td>-0.326172</td>\n",
       "      <td>-0.107252</td>\n",
       "      <td>-0.384263</td>\n",
       "      <td>0.622404</td>\n",
       "      <td>-0.730766</td>\n",
       "    </tr>\n",
       "    <tr>\n",
       "      <th>3</th>\n",
       "      <td>-0.523697</td>\n",
       "      <td>0.445691</td>\n",
       "      <td>-0.651479</td>\n",
       "      <td>1.024409</td>\n",
       "      <td>-0.328955</td>\n",
       "      <td>-0.190445</td>\n",
       "      <td>0.208263</td>\n",
       "      <td>1.300417</td>\n",
       "      <td>-0.664924</td>\n",
       "      <td>-0.815720</td>\n",
       "      <td>...</td>\n",
       "      <td>0.626874</td>\n",
       "      <td>0.280390</td>\n",
       "      <td>-1.985126</td>\n",
       "      <td>1.459692</td>\n",
       "      <td>-0.303768</td>\n",
       "      <td>0.045667</td>\n",
       "      <td>0.600624</td>\n",
       "      <td>-0.384263</td>\n",
       "      <td>-1.804131</td>\n",
       "      <td>0.479608</td>\n",
       "    </tr>\n",
       "    <tr>\n",
       "      <th>4</th>\n",
       "      <td>3.585285</td>\n",
       "      <td>-2.008430</td>\n",
       "      <td>-0.628953</td>\n",
       "      <td>-0.194252</td>\n",
       "      <td>-0.184988</td>\n",
       "      <td>-0.190445</td>\n",
       "      <td>-5.284425</td>\n",
       "      <td>-1.268244</td>\n",
       "      <td>1.165035</td>\n",
       "      <td>0.996836</td>\n",
       "      <td>...</td>\n",
       "      <td>0.189034</td>\n",
       "      <td>0.390483</td>\n",
       "      <td>-1.060330</td>\n",
       "      <td>-0.577990</td>\n",
       "      <td>0.746167</td>\n",
       "      <td>-0.326172</td>\n",
       "      <td>-1.021592</td>\n",
       "      <td>0.078666</td>\n",
       "      <td>-0.209551</td>\n",
       "      <td>0.329449</td>\n",
       "    </tr>\n",
       "  </tbody>\n",
       "</table>\n",
       "<p>5 rows × 29 columns</p>\n",
       "</div>"
      ],
      "text/plain": [
       "   Hispanic     White     Black    Native     Asian   Pacific  \\\n",
       "0  0.026000  0.405948 -0.598919 -0.194252  0.210922  0.735115   \n",
       "1 -0.132038  0.127748  0.136934 -0.221638 -0.220980 -0.190445   \n",
       "2  3.214239 -2.013398 -0.418710 -0.098402  0.174930  0.040945   \n",
       "3 -0.523697  0.445691 -0.651479  1.024409 -0.328955 -0.190445   \n",
       "4  3.585285 -2.008430 -0.628953 -0.194252 -0.184988 -0.190445   \n",
       "\n",
       "   VotingAgeCitizen  IncomePerCap   Poverty  ChildPoverty  ...  OtherTransp  \\\n",
       "0         -1.747167     -0.714128 -0.149208     -0.847519  ...     0.689423   \n",
       "1         -0.552169     -0.186248 -0.315568     -0.328132  ...     0.001389   \n",
       "2         -3.033734     -1.009202  0.998675      0.986236  ...     0.251583   \n",
       "3          0.208263      1.300417 -0.664924     -0.815720  ...     0.626874   \n",
       "4         -5.284425     -1.268244  1.165035      0.996836  ...     0.189034   \n",
       "\n",
       "   WorkAtHome  MeanCommute  Employed  PrivateWork  PublicWork  SelfEmployed  \\\n",
       "0    0.206995    -1.154697  0.543083     0.221199    0.248489     -0.844623   \n",
       "1    0.243693     0.845883  0.285569     0.774543   -0.596601     -0.549674   \n",
       "2   -0.380168     0.411795 -1.209726     0.348894   -0.326172     -0.107252   \n",
       "3    0.280390    -1.985126  1.459692    -0.303768    0.045667      0.600624   \n",
       "4    0.390483    -1.060330 -0.577990     0.746167   -0.326172     -1.021592   \n",
       "\n",
       "   FamilyWork  Unemployment  percent_men  \n",
       "0   -0.152798     -1.006841     0.088284  \n",
       "1   -0.152798     -0.174886    -0.139230  \n",
       "2   -0.384263      0.622404    -0.730766  \n",
       "3   -0.384263     -1.804131     0.479608  \n",
       "4    0.078666     -0.209551     0.329449  \n",
       "\n",
       "[5 rows x 29 columns]"
      ]
     },
     "execution_count": 10,
     "metadata": {},
     "output_type": "execute_result"
    }
   ],
   "source": [
    "X_tr.head()"
   ]
  },
  {
   "cell_type": "code",
   "execution_count": 11,
   "metadata": {},
   "outputs": [
    {
     "name": "stdout",
     "output_type": "stream",
     "text": [
      "f1 score: 0.698443579766537 \n",
      "recall score: 0.6275229357798165\n"
     ]
    }
   ],
   "source": [
    "# get baseline logistic regression model:\n",
    "lr = LogisticRegression(solver='lbfgs')\n",
    "lr.fit(X_tr, y_tr)\n",
    "f1 = f1_score(lr.predict(X_val_a), y_val_a)\n",
    "recall = recall_score(lr.predict(X_val), y_val)\n",
    "print('f1 score: {} \\nrecall score: {}'.format(f1, recall))"
   ]
  },
  {
   "cell_type": "code",
   "execution_count": 12,
   "metadata": {},
   "outputs": [
    {
     "name": "stdout",
     "output_type": "stream",
     "text": [
      "f1 score: 0.9123809523809524 \n",
      "recall score: 0.8870370370370371\n"
     ]
    }
   ],
   "source": [
    "# get baseline random forest model\n",
    "randomforest = RandomForestClassifier(n_estimators=500)\n",
    "randomforest.fit(X_tr, y_tr)\n",
    "f1 = f1_score(randomforest.predict(X_val), y_val)\n",
    "recall = recall_score(randomforest.predict(X_val), y_val)\n",
    "print('f1 score: {} \\nrecall score: {}'.format(f1, recall))"
   ]
  },
  {
   "cell_type": "code",
   "execution_count": 13,
   "metadata": {},
   "outputs": [
    {
     "data": {
      "text/plain": [
       "array([0.04144371, 0.03913172, 0.03256293, 0.02770963, 0.04019351,\n",
       "       0.01033567, 0.03290799, 0.02840773, 0.03803229, 0.03251513,\n",
       "       0.03149955, 0.03326405, 0.06080876, 0.03546632, 0.03246221,\n",
       "       0.03298813, 0.03037632, 0.0309128 , 0.03814418, 0.02739739,\n",
       "       0.02867302, 0.03976685, 0.03024144, 0.03963486, 0.03119104,\n",
       "       0.05661597, 0.0158602 , 0.0351108 , 0.04634582])"
      ]
     },
     "execution_count": 13,
     "metadata": {},
     "output_type": "execute_result"
    }
   ],
   "source": [
    "randomforest.feature_importances_"
   ]
  },
  {
   "cell_type": "code",
   "execution_count": 14,
   "metadata": {},
   "outputs": [
    {
     "name": "stdout",
     "output_type": "stream",
     "text": [
      "f1 score: 0.6601941747572816 \n",
      "recall score: 0.6538461538461539\n"
     ]
    }
   ],
   "source": [
    "# get baseline decision tree\n",
    "decisiontree = DecisionTreeClassifier(max_depth=5)\n",
    "decisiontree.fit(X_tr, y_tr)\n",
    "f1 = f1_score(decisiontree.predict(X_val), y_val)\n",
    "recall = recall_score(decisiontree.predict(X_val), y_val)\n",
    "print('f1 score: {} \\nrecall score: {}'.format(f1, recall))"
   ]
  },
  {
   "cell_type": "code",
   "execution_count": 15,
   "metadata": {},
   "outputs": [
    {
     "data": {
      "text/plain": [
       "array([0.14193425, 0.        , 0.        , 0.        , 0.0349383 ,\n",
       "       0.        , 0.        , 0.        , 0.01970777, 0.01884588,\n",
       "       0.02211942, 0.04398507, 0.22749221, 0.01273592, 0.        ,\n",
       "       0.05439019, 0.        , 0.        , 0.        , 0.        ,\n",
       "       0.01680488, 0.04855765, 0.        , 0.02994442, 0.02918616,\n",
       "       0.12296265, 0.02023858, 0.05893774, 0.0972189 ])"
      ]
     },
     "execution_count": 15,
     "metadata": {},
     "output_type": "execute_result"
    }
   ],
   "source": [
    "decisiontree.feature_importances_"
   ]
  },
  {
   "cell_type": "code",
   "execution_count": 16,
   "metadata": {},
   "outputs": [
    {
     "name": "stdout",
     "output_type": "stream",
     "text": [
      "f1 score: 0.6412940057088486 \n",
      "recall score: 0.6229205175600739\n"
     ]
    },
    {
     "name": "stderr",
     "output_type": "stream",
     "text": [
      "/anaconda3/lib/python3.7/site-packages/sklearn/svm/base.py:931: ConvergenceWarning: Liblinear failed to converge, increase the number of iterations.\n",
      "  \"the number of iterations.\", ConvergenceWarning)\n"
     ]
    }
   ],
   "source": [
    "# get baseline linear svm\n",
    "linearsvc = LinearSVC()\n",
    "linearsvc.fit(X_tr, y_tr)\n",
    "f1 = f1_score(linearsvc.predict(X_val), y_val)\n",
    "recall = recall_score(linearsvc.predict(X_val), y_val)\n",
    "print('f1 score: {} \\nrecall score: {}'.format(f1, recall))"
   ]
  },
  {
   "cell_type": "code",
   "execution_count": 17,
   "metadata": {},
   "outputs": [
    {
     "name": "stdout",
     "output_type": "stream",
     "text": [
      "f1 score: 0.7345844504021448 \n",
      "recall score: 0.6748768472906403\n"
     ]
    }
   ],
   "source": [
    "# get baseline svm\n",
    "svc = SVC(gamma='scale', probability=True)\n",
    "svc.fit(X_tr, y_tr)\n",
    "f1 = f1_score(svc.predict(X_val), y_val)\n",
    "recall = recall_score(svc.predict(X_val), y_val)\n",
    "print('f1 score: {} \\nrecall score: {}'.format(f1, recall))"
   ]
  },
  {
   "cell_type": "code",
   "execution_count": 18,
   "metadata": {},
   "outputs": [
    {
     "name": "stdout",
     "output_type": "stream",
     "text": [
      "f1 score: 0.7429547395388558 \n",
      "recall score: 0.6580937972768532\n"
     ]
    }
   ],
   "source": [
    "# get baseline KNN\n",
    "knn = KNeighborsClassifier(n_neighbors=5)\n",
    "knn.fit(X_tr, y_tr)\n",
    "f1 = f1_score(knn.predict(X_val), y_val)\n",
    "recall = recall_score(knn.predict(X_val), y_val)\n",
    "print('f1 score: {} \\nrecall score: {}'.format(f1, recall))"
   ]
  },
  {
   "cell_type": "code",
   "execution_count": 19,
   "metadata": {},
   "outputs": [
    {
     "name": "stdout",
     "output_type": "stream",
     "text": [
      "f1 score: 0.7881040892193308 \n",
      "recall score: 0.7491166077738516\n"
     ]
    }
   ],
   "source": [
    "# Get baseline XGBoost\n",
    "xgb = GradientBoostingClassifier()\n",
    "xgb.fit(X_tr, y_tr)\n",
    "f1 = f1_score(xgb.predict(X_val), y_val)\n",
    "recall = recall_score(xgb.predict(X_val), y_val)\n",
    "print('f1 score: {} \\nrecall score: {}'.format(f1, recall))"
   ]
  },
  {
   "cell_type": "code",
   "execution_count": 20,
   "metadata": {},
   "outputs": [
    {
     "name": "stdout",
     "output_type": "stream",
     "text": [
      "('Pacific', 0.010335673898364588)\n",
      "('FamilyWork', 0.015860199183555853)\n",
      "('OtherTransp', 0.02739738575557059)\n",
      "('Native', 0.02770963155201716)\n",
      "('IncomePerCap', 0.028407728160521183)\n",
      "('WorkAtHome', 0.02867302022087048)\n",
      "('Employed', 0.030241435408841697)\n",
      "('Carpool', 0.030376315166980073)\n",
      "('Transit', 0.03091280120983472)\n",
      "('PublicWork', 0.031191039541564995)\n",
      "('Professional', 0.03149954635145361)\n",
      "('Production', 0.03246220756793105)\n",
      "('ChildPoverty', 0.032515126548594675)\n",
      "('Black', 0.03256293243042408)\n",
      "('VotingAgeCitizen', 0.03290798947825679)\n",
      "('Drive', 0.032988134461815054)\n",
      "('Service', 0.03326405471757841)\n",
      "('Unemployment', 0.035110800502191356)\n",
      "('Construction', 0.0354663189225337)\n",
      "('Poverty', 0.03803228659707957)\n",
      "('Walk', 0.038144184567735114)\n",
      "('White', 0.03913172013256897)\n",
      "('PrivateWork', 0.03963485818865127)\n",
      "('MeanCommute', 0.039766848215427246)\n",
      "('Asian', 0.04019350539484349)\n",
      "('Hispanic', 0.041443705941258804)\n",
      "('percent_men', 0.04634581551487558)\n",
      "('SelfEmployed', 0.05661597301252661)\n",
      "('Office', 0.060808761356133174)\n"
     ]
    }
   ],
   "source": [
    "for i in sorted(zip(X_val, randomforest.feature_importances_), key = lambda x: x[1]):\n",
    "    print(i)"
   ]
  },
  {
   "cell_type": "code",
   "execution_count": 23,
   "metadata": {},
   "outputs": [
    {
     "data": {
      "text/plain": [
       "[('Hispanic', 0.041443705941258804),\n",
       " ('White', 0.03913172013256897),\n",
       " ('Black', 0.03256293243042408),\n",
       " ('Native', 0.02770963155201716),\n",
       " ('Asian', 0.04019350539484349),\n",
       " ('Pacific', 0.010335673898364588),\n",
       " ('VotingAgeCitizen', 0.03290798947825679),\n",
       " ('IncomePerCap', 0.028407728160521183),\n",
       " ('Poverty', 0.03803228659707957),\n",
       " ('ChildPoverty', 0.032515126548594675),\n",
       " ('Professional', 0.03149954635145361),\n",
       " ('Service', 0.03326405471757841),\n",
       " ('Office', 0.060808761356133174),\n",
       " ('Construction', 0.0354663189225337),\n",
       " ('Production', 0.03246220756793105),\n",
       " ('Drive', 0.032988134461815054),\n",
       " ('Carpool', 0.030376315166980073),\n",
       " ('Transit', 0.03091280120983472),\n",
       " ('Walk', 0.038144184567735114),\n",
       " ('OtherTransp', 0.02739738575557059),\n",
       " ('WorkAtHome', 0.02867302022087048),\n",
       " ('MeanCommute', 0.039766848215427246),\n",
       " ('Employed', 0.030241435408841697),\n",
       " ('PrivateWork', 0.03963485818865127),\n",
       " ('PublicWork', 0.031191039541564995),\n",
       " ('SelfEmployed', 0.05661597301252661),\n",
       " ('FamilyWork', 0.015860199183555853),\n",
       " ('Unemployment', 0.035110800502191356),\n",
       " ('percent_men', 0.04634581551487558)]"
      ]
     },
     "execution_count": 23,
     "metadata": {},
     "output_type": "execute_result"
    }
   ],
   "source": []
  },
  {
   "cell_type": "markdown",
   "metadata": {},
   "source": [
    "# ROC Curves"
   ]
  },
  {
   "cell_type": "code",
   "execution_count": null,
   "metadata": {},
   "outputs": [],
   "source": [
    "models = [lr, randomforest, decisiontree, svc, knn, xgb]"
   ]
  },
  {
   "cell_type": "code",
   "execution_count": null,
   "metadata": {},
   "outputs": [],
   "source": [
    "# fpr, tpr, thresholds = roc_curve(y_val, lr.predict_proba(X_val)[:,1])"
   ]
  },
  {
   "cell_type": "code",
   "execution_count": null,
   "metadata": {},
   "outputs": [],
   "source": [
    "plt.plot([0,1],[0,1],c='violet',ls='--')\n",
    "for model in models:\n",
    "    fpr, tpr, thresholds = roc_curve(y_val, model.predict_proba(X_val)[:,1])\n",
    "    plt.plot(fpr, tpr,lw=2)\n",
    "\n",
    "    print(\"ROC AUC score = \", roc_auc_score(y_val, model.predict_proba(X_val)[:,1]))\n",
    "\n",
    "plt.plot([0,1],[0,1],c='violet',ls='--')\n",
    "plt.xlim([-0.05,1.05])\n",
    "plt.ylim([-0.05,1.05])\n",
    "plt.legend(['Chance', 'Logistic Regression', 'Random Forest', 'Decision Tree', 'SVC', 'KNN', 'XGB'])\n",
    "plt.xlabel('False positive rate')\n",
    "plt.ylabel('True positive rate')\n",
    "plt.title('ROC curve for Predicting Police Shootings')"
   ]
  },
  {
   "cell_type": "code",
   "execution_count": null,
   "metadata": {},
   "outputs": [],
   "source": [
    "for item in sorted(zip(list(X_tr.columns), list(randomforest.feature_importances_)), \n",
    "                   key=lambda x: x[1]):\n",
    "    print(item)"
   ]
  },
  {
   "cell_type": "code",
   "execution_count": null,
   "metadata": {},
   "outputs": [],
   "source": [
    "for item in sorted(zip(list(X_tr.columns), list(decisiontree.feature_importances_)), \n",
    "                   key=lambda x: x[1]):\n",
    "    print(item)"
   ]
  },
  {
   "cell_type": "code",
   "execution_count": null,
   "metadata": {},
   "outputs": [],
   "source": [
    "from matplotlib.pyplot import scatter"
   ]
  },
  {
   "cell_type": "code",
   "execution_count": null,
   "metadata": {},
   "outputs": [],
   "source": [
    "np.corrcoef(X_tr.Drive, y_tr)"
   ]
  },
  {
   "cell_type": "code",
   "execution_count": null,
   "metadata": {},
   "outputs": [],
   "source": [
    "scatter(x=X_tr.Hispanic, y=y_tr)"
   ]
  },
  {
   "cell_type": "markdown",
   "metadata": {},
   "source": [
    "# Try Random Forest with the top 10 features"
   ]
  },
  {
   "cell_type": "code",
   "execution_count": null,
   "metadata": {},
   "outputs": [],
   "source": [
    "X_tr_top15 = X_tr.drop(labels = ['Pacific', 'FamilyWork', 'OtherTransp', 'Native', 'IncomePerCap',\n",
    "                                'WorkAtHome', 'Employed', 'Employed', 'Carpool', 'PublicWork',\n",
    "                                'Transit', 'Professional', 'ChildPoverty', 'VotingAgeCitizen', \n",
    "                                'Production'], axis = 1)\n",
    "\n",
    "X_val_top15 = X_val.drop(labels = ['Pacific', 'FamilyWork', 'OtherTransp', 'Native', 'IncomePerCap',\n",
    "                                'WorkAtHome', 'Employed', 'Employed', 'Carpool', 'PublicWork',\n",
    "                                'Transit', 'Professional', 'ChildPoverty', 'VotingAgeCitizen', \n",
    "                                'Production'], axis = 1)"
   ]
  },
  {
   "cell_type": "code",
   "execution_count": null,
   "metadata": {},
   "outputs": [],
   "source": [
    "# random forest with 15 predictive features\n",
    "rf15 = RandomForestClassifier(n_estimators=100)\n",
    "rf15.fit(X_tr_top15, y_tr)\n",
    "f1 = f1_score(rf15.predict(X_val_top15), y_val)\n",
    "recall = recall_score(rf15.predict(X_val_top15), y_val)\n",
    "print('f1 score: {} \\nrecall score: {}'.format(f1, recall))"
   ]
  },
  {
   "cell_type": "code",
   "execution_count": null,
   "metadata": {},
   "outputs": [],
   "source": [
    "plt.plot([0,1],[0,1],c='violet',ls='--')\n",
    "fpr, tpr, thresholds = roc_curve(y_val, rf15.predict_proba(X_val_top15)[:,1])\n",
    "plt.plot(fpr, tpr,lw=2)\n",
    "\n",
    "print(\"ROC AUC score = \", roc_auc_score(y_val, rf15.predict_proba(X_val_top15)[:,1]))\n",
    "\n",
    "plt.plot([0,1],[0,1],c='violet',ls='--')\n",
    "plt.xlim([-0.05,1.05])\n",
    "plt.ylim([-0.05,1.05])\n",
    "plt.legend(['Chance', 'Random Forest'])\n",
    "plt.xlabel('False positive rate')\n",
    "plt.ylabel('True positive rate')\n",
    "plt.title('ROC curve for Predicting Police Shootings')"
   ]
  },
  {
   "cell_type": "markdown",
   "metadata": {},
   "source": [
    "# Try GridSearch for Random Forest"
   ]
  },
  {
   "cell_type": "code",
   "execution_count": null,
   "metadata": {},
   "outputs": [],
   "source": [
    "n_estimators = [10,100,200,300,400,500,600,1000]\n",
    "criterion = ['gini', 'entropy']\n",
    "param_grid = dict(n_estimators = n_estimators, criterion = criterion)\n",
    "random_forest_grid_search = RandomForestClassifier()\n",
    "random_forest_grid = GridSearchCV(random_forest_grid_search, param_grid, cv=5, scoring='roc_auc', verbose=2, n_jobs=-1)\n",
    "random_forest_grid.fit(X_tr, y_tr)\n",
    "random_forest_grid_predictions = random_forest_grid.predict(X_val)\n",
    "random_forest_best_params = random_forest_grid.best_params_\n",
    "random_forest_best_estimator = random_forest_grid.best_estimator_\n",
    "random_forest_best_cm = confusion_matrix(y_val,random_forest_grid_predictions)\n",
    "random_forest_best_cr = classification_report(y_val,random_forest_grid_predictions)\n",
    "print(random_forest_best_params, random_forest_best_estimator, random_forest_best_cm, random_forest_best_cr)"
   ]
  },
  {
   "cell_type": "code",
   "execution_count": null,
   "metadata": {},
   "outputs": [],
   "source": [
    "random_forest_y_score = random_forest_grid.predict_proba(X_val)[:, 1]\n",
    "random_forest_grid_fpr, random_forest_grid_tpr, auc_thresholds = roc_curve(y_val, random_forest_y_score)\n",
    "roc_auc_random_forest_grid = auc(random_forest_grid_fpr, random_forest_grid_tpr)\n",
    "print(auc(random_forest_grid_fpr, random_forest_grid_tpr))"
   ]
  },
  {
   "cell_type": "code",
   "execution_count": null,
   "metadata": {},
   "outputs": [],
   "source": [
    "from sklearn.metrics import confusion_matrix\n",
    "confusion_matrix(y_val, random_forest_grid.best_estimator_.predict(X_val))"
   ]
  },
  {
   "cell_type": "code",
   "execution_count": null,
   "metadata": {},
   "outputs": [],
   "source": []
  }
 ],
 "metadata": {
  "kernelspec": {
   "display_name": "Python 3",
   "language": "python",
   "name": "python3"
  },
  "language_info": {
   "codemirror_mode": {
    "name": "ipython",
    "version": 3
   },
   "file_extension": ".py",
   "mimetype": "text/x-python",
   "name": "python",
   "nbconvert_exporter": "python",
   "pygments_lexer": "ipython3",
   "version": "3.7.2"
  }
 },
 "nbformat": 4,
 "nbformat_minor": 2
}
