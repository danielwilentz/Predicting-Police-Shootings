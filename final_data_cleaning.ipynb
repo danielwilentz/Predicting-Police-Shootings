{
 "cells": [
  {
   "cell_type": "code",
   "execution_count": 3,
   "metadata": {},
   "outputs": [],
   "source": [
    "# Necessary imports\n",
    "import pandas as pd\n",
    "import numpy as np\n",
    "import statsmodels.api as sm\n",
    "import statsmodels.formula.api as smf\n",
    "import patsy\n",
    "import scipy.stats as stats\n",
    "import warnings\n",
    "warnings.filterwarnings(\"ignore\")\n",
    "\n",
    "import seaborn as sns\n",
    "import matplotlib.pyplot as plt\n",
    "from sklearn.linear_model import LinearRegression, LogisticRegression\n",
    "from sklearn.linear_model import RidgeCV\n",
    "from sklearn.model_selection import train_test_split\n",
    "from sklearn.metrics import f1_score, recall_score\n",
    "from sklearn.svm import LinearSVC, SVC\n",
    "from sklearn.tree import DecisionTreeClassifier\n",
    "from sklearn.ensemble import RandomForestClassifier\n",
    "%matplotlib inline"
   ]
  },
  {
   "cell_type": "code",
   "execution_count": 4,
   "metadata": {},
   "outputs": [],
   "source": [
    "# Read in data\n",
    "df = pd.read_pickle('data/combined_data.pkl')"
   ]
  },
  {
   "cell_type": "code",
   "execution_count": 5,
   "metadata": {},
   "outputs": [],
   "source": [
    "# Create new feature 'percent_men' and drop 'Men' and 'Women' columns\n",
    "df['percent_men'] = df['Men']/df['TotalPop']*100\n",
    "df['percent_men'] = df['percent_men'].round(decimals=2)\n",
    "\n",
    "df = df.drop(['Men', 'Women'], axis = 1)"
   ]
  },
  {
   "cell_type": "code",
   "execution_count": 6,
   "metadata": {},
   "outputs": [
    {
     "data": {
      "text/html": [
       "<div>\n",
       "<style scoped>\n",
       "    .dataframe tbody tr th:only-of-type {\n",
       "        vertical-align: middle;\n",
       "    }\n",
       "\n",
       "    .dataframe tbody tr th {\n",
       "        vertical-align: top;\n",
       "    }\n",
       "\n",
       "    .dataframe thead th {\n",
       "        text-align: right;\n",
       "    }\n",
       "</style>\n",
       "<table border=\"1\" class=\"dataframe\">\n",
       "  <thead>\n",
       "    <tr style=\"text-align: right;\">\n",
       "      <th></th>\n",
       "      <th>CountyId</th>\n",
       "      <th>State</th>\n",
       "      <th>County</th>\n",
       "      <th>TotalPop</th>\n",
       "      <th>Hispanic</th>\n",
       "      <th>White</th>\n",
       "      <th>Black</th>\n",
       "      <th>Native</th>\n",
       "      <th>Asian</th>\n",
       "      <th>Pacific</th>\n",
       "      <th>...</th>\n",
       "      <th>Employed</th>\n",
       "      <th>PrivateWork</th>\n",
       "      <th>PublicWork</th>\n",
       "      <th>SelfEmployed</th>\n",
       "      <th>FamilyWork</th>\n",
       "      <th>Unemployment</th>\n",
       "      <th>State_abrv</th>\n",
       "      <th>num_shootings</th>\n",
       "      <th>had_shootings</th>\n",
       "      <th>percent_men</th>\n",
       "    </tr>\n",
       "  </thead>\n",
       "  <tbody>\n",
       "    <tr>\n",
       "      <th>0</th>\n",
       "      <td>1001</td>\n",
       "      <td>Alabama</td>\n",
       "      <td>Autauga County, AL</td>\n",
       "      <td>55036</td>\n",
       "      <td>2.7</td>\n",
       "      <td>75.4</td>\n",
       "      <td>18.9</td>\n",
       "      <td>0.3</td>\n",
       "      <td>0.9</td>\n",
       "      <td>0.0</td>\n",
       "      <td>...</td>\n",
       "      <td>24112</td>\n",
       "      <td>74.1</td>\n",
       "      <td>20.2</td>\n",
       "      <td>5.6</td>\n",
       "      <td>0.1</td>\n",
       "      <td>5.2</td>\n",
       "      <td>AL</td>\n",
       "      <td>0.0</td>\n",
       "      <td>0</td>\n",
       "      <td>48.88</td>\n",
       "    </tr>\n",
       "    <tr>\n",
       "      <th>1</th>\n",
       "      <td>1003</td>\n",
       "      <td>Alabama</td>\n",
       "      <td>Baldwin County, AL</td>\n",
       "      <td>203360</td>\n",
       "      <td>4.4</td>\n",
       "      <td>83.1</td>\n",
       "      <td>9.5</td>\n",
       "      <td>0.8</td>\n",
       "      <td>0.7</td>\n",
       "      <td>0.0</td>\n",
       "      <td>...</td>\n",
       "      <td>89527</td>\n",
       "      <td>80.7</td>\n",
       "      <td>12.9</td>\n",
       "      <td>6.3</td>\n",
       "      <td>0.1</td>\n",
       "      <td>5.5</td>\n",
       "      <td>AL</td>\n",
       "      <td>1.0</td>\n",
       "      <td>1</td>\n",
       "      <td>48.94</td>\n",
       "    </tr>\n",
       "    <tr>\n",
       "      <th>2</th>\n",
       "      <td>1005</td>\n",
       "      <td>Alabama</td>\n",
       "      <td>Barbour County, AL</td>\n",
       "      <td>26201</td>\n",
       "      <td>4.2</td>\n",
       "      <td>45.7</td>\n",
       "      <td>47.8</td>\n",
       "      <td>0.2</td>\n",
       "      <td>0.6</td>\n",
       "      <td>0.0</td>\n",
       "      <td>...</td>\n",
       "      <td>8878</td>\n",
       "      <td>74.1</td>\n",
       "      <td>19.1</td>\n",
       "      <td>6.5</td>\n",
       "      <td>0.3</td>\n",
       "      <td>12.4</td>\n",
       "      <td>AL</td>\n",
       "      <td>1.0</td>\n",
       "      <td>1</td>\n",
       "      <td>53.34</td>\n",
       "    </tr>\n",
       "    <tr>\n",
       "      <th>3</th>\n",
       "      <td>1007</td>\n",
       "      <td>Alabama</td>\n",
       "      <td>Bibb County, AL</td>\n",
       "      <td>22580</td>\n",
       "      <td>2.4</td>\n",
       "      <td>74.6</td>\n",
       "      <td>22.0</td>\n",
       "      <td>0.4</td>\n",
       "      <td>0.0</td>\n",
       "      <td>0.0</td>\n",
       "      <td>...</td>\n",
       "      <td>8171</td>\n",
       "      <td>76.0</td>\n",
       "      <td>17.4</td>\n",
       "      <td>6.3</td>\n",
       "      <td>0.3</td>\n",
       "      <td>8.2</td>\n",
       "      <td>AL</td>\n",
       "      <td>0.0</td>\n",
       "      <td>0</td>\n",
       "      <td>54.26</td>\n",
       "    </tr>\n",
       "    <tr>\n",
       "      <th>4</th>\n",
       "      <td>1009</td>\n",
       "      <td>Alabama</td>\n",
       "      <td>Blount County, AL</td>\n",
       "      <td>57667</td>\n",
       "      <td>9.0</td>\n",
       "      <td>87.4</td>\n",
       "      <td>1.5</td>\n",
       "      <td>0.3</td>\n",
       "      <td>0.1</td>\n",
       "      <td>0.0</td>\n",
       "      <td>...</td>\n",
       "      <td>21380</td>\n",
       "      <td>83.9</td>\n",
       "      <td>11.9</td>\n",
       "      <td>4.0</td>\n",
       "      <td>0.1</td>\n",
       "      <td>4.9</td>\n",
       "      <td>AL</td>\n",
       "      <td>1.0</td>\n",
       "      <td>1</td>\n",
       "      <td>49.40</td>\n",
       "    </tr>\n",
       "  </tbody>\n",
       "</table>\n",
       "<p>5 rows × 39 columns</p>\n",
       "</div>"
      ],
      "text/plain": [
       "   CountyId    State              County  TotalPop  Hispanic  White  Black  \\\n",
       "0      1001  Alabama  Autauga County, AL     55036       2.7   75.4   18.9   \n",
       "1      1003  Alabama  Baldwin County, AL    203360       4.4   83.1    9.5   \n",
       "2      1005  Alabama  Barbour County, AL     26201       4.2   45.7   47.8   \n",
       "3      1007  Alabama     Bibb County, AL     22580       2.4   74.6   22.0   \n",
       "4      1009  Alabama   Blount County, AL     57667       9.0   87.4    1.5   \n",
       "\n",
       "   Native  Asian  Pacific  ...  Employed  PrivateWork  PublicWork  \\\n",
       "0     0.3    0.9      0.0  ...     24112         74.1        20.2   \n",
       "1     0.8    0.7      0.0  ...     89527         80.7        12.9   \n",
       "2     0.2    0.6      0.0  ...      8878         74.1        19.1   \n",
       "3     0.4    0.0      0.0  ...      8171         76.0        17.4   \n",
       "4     0.3    0.1      0.0  ...     21380         83.9        11.9   \n",
       "\n",
       "   SelfEmployed  FamilyWork  Unemployment  State_abrv  num_shootings  \\\n",
       "0           5.6         0.1           5.2          AL            0.0   \n",
       "1           6.3         0.1           5.5          AL            1.0   \n",
       "2           6.5         0.3          12.4          AL            1.0   \n",
       "3           6.3         0.3           8.2          AL            0.0   \n",
       "4           4.0         0.1           4.9          AL            1.0   \n",
       "\n",
       "   had_shootings  percent_men  \n",
       "0              0        48.88  \n",
       "1              1        48.94  \n",
       "2              1        53.34  \n",
       "3              0        54.26  \n",
       "4              1        49.40  \n",
       "\n",
       "[5 rows x 39 columns]"
      ]
     },
     "execution_count": 6,
     "metadata": {},
     "output_type": "execute_result"
    }
   ],
   "source": [
    "df.head()"
   ]
  },
  {
   "cell_type": "code",
   "execution_count": 7,
   "metadata": {},
   "outputs": [
    {
     "data": {
      "text/plain": [
       "Index(['CountyId', 'State', 'County', 'TotalPop', 'Hispanic', 'White', 'Black',\n",
       "       'Native', 'Asian', 'Pacific', 'VotingAgeCitizen', 'Income', 'IncomeErr',\n",
       "       'IncomePerCap', 'IncomePerCapErr', 'Poverty', 'ChildPoverty',\n",
       "       'Professional', 'Service', 'Office', 'Construction', 'Production',\n",
       "       'Drive', 'Carpool', 'Transit', 'Walk', 'OtherTransp', 'WorkAtHome',\n",
       "       'MeanCommute', 'Employed', 'PrivateWork', 'PublicWork', 'SelfEmployed',\n",
       "       'FamilyWork', 'Unemployment', 'State_abrv', 'num_shootings',\n",
       "       'had_shootings', 'percent_men'],\n",
       "      dtype='object')"
      ]
     },
     "execution_count": 7,
     "metadata": {},
     "output_type": "execute_result"
    }
   ],
   "source": [
    "df.columns"
   ]
  },
  {
   "cell_type": "code",
   "execution_count": 8,
   "metadata": {},
   "outputs": [],
   "source": [
    "# Drop unneeded columns\n",
    "df = df.drop(labels = ['CountyId', 'State', 'Income', 'IncomeErr', \n",
    "                  'IncomePerCapErr', 'State_abrv', 'num_shootings'], axis = 1)"
   ]
  },
  {
   "cell_type": "code",
   "execution_count": 9,
   "metadata": {},
   "outputs": [],
   "source": [
    "# Reorder columns\n",
    "df = df[['County', 'TotalPop', 'percent_men', 'Hispanic', 'White', 'Black', 'Native', 'Asian', \n",
    "         'Pacific', 'VotingAgeCitizen', 'IncomePerCap', 'Poverty', 'ChildPoverty', \n",
    "         'Professional', 'Service', 'Office', 'Construction', 'Production', 'Drive', \n",
    "         'Carpool', 'Transit', 'Walk', 'OtherTransp', 'WorkAtHome', 'MeanCommute', \n",
    "         'Employed', 'PrivateWork', 'PublicWork', 'SelfEmployed', 'FamilyWork', \n",
    "         'Unemployment', 'had_shootings']]"
   ]
  },
  {
   "cell_type": "code",
   "execution_count": 10,
   "metadata": {},
   "outputs": [
    {
     "data": {
      "text/plain": [
       "(3141, 32)"
      ]
     },
     "execution_count": 10,
     "metadata": {},
     "output_type": "execute_result"
    }
   ],
   "source": [
    "df.shape"
   ]
  },
  {
   "cell_type": "code",
   "execution_count": 11,
   "metadata": {},
   "outputs": [],
   "source": [
    "# Drop NaNs\n",
    "df.dropna(axis=0, how='any', inplace=True)"
   ]
  },
  {
   "cell_type": "code",
   "execution_count": 12,
   "metadata": {},
   "outputs": [
    {
     "data": {
      "text/plain": [
       "(3140, 32)"
      ]
     },
     "execution_count": 12,
     "metadata": {},
     "output_type": "execute_result"
    }
   ],
   "source": [
    "df.shape"
   ]
  },
  {
   "cell_type": "code",
   "execution_count": 13,
   "metadata": {},
   "outputs": [
    {
     "name": "stdout",
     "output_type": "stream",
     "text": [
      "0    0.764331\n",
      "1    0.235669\n",
      "Name: had_shootings, dtype: float64\n"
     ]
    },
    {
     "data": {
      "text/plain": [
       "<matplotlib.axes._subplots.AxesSubplot at 0x1c1d067be0>"
      ]
     },
     "execution_count": 13,
     "metadata": {},
     "output_type": "execute_result"
    },
    {
     "data": {
      "image/png": "[encoded data removed]",
      "text/plain": [
       "<Figure size 432x288 with 1 Axes>"
      ]
     },
     "metadata": {
      "needs_background": "light"
     },
     "output_type": "display_data"
    }
   ],
   "source": [
    "# Checking for class imbalance\n",
    "target_pcts = df.had_shootings.value_counts(normalize=True) \n",
    "print(target_pcts)\n",
    "\n",
    "target_pcts.plot(kind='bar')"
   ]
  },
  {
   "cell_type": "code",
   "execution_count": 14,
   "metadata": {},
   "outputs": [],
   "source": [
    "df.to_pickle('data/combined_data_cleaned.pkl')"
   ]
  },
  {
   "cell_type": "code",
   "execution_count": 40,
   "metadata": {},
   "outputs": [],
   "source": [
    "# This cell takes forever to run\n",
    "def plot_features(df, sample_size=500):\n",
    "    \n",
    "    sample = (df.drop(['County'],axis=1)\n",
    "                .sample(1000, random_state=44)) \n",
    "    sns.pairplot(sample,hue='had_shootings', plot_kws=dict(alpha=.3, edgecolor='none'))\n",
    "\n",
    "# plot_features(df)"
   ]
  },
  {
   "cell_type": "code",
   "execution_count": 45,
   "metadata": {},
   "outputs": [],
   "source": [
    "# Split up data in train/test\n",
    "X = df[['TotalPop', 'percent_men', 'Hispanic', 'White', 'Black', 'Native', 'Asian', \n",
    "        'Pacific', 'VotingAgeCitizen', 'IncomePerCap', 'Poverty', 'ChildPoverty', \n",
    "        'Professional', 'Service', 'Office', 'Construction', 'Production', 'Drive', \n",
    "        'Carpool', 'Transit', 'Walk', 'OtherTransp', 'WorkAtHome', 'MeanCommute', \n",
    "        'Employed', 'PrivateWork', 'PublicWork', 'SelfEmployed', 'FamilyWork', \n",
    "        'Unemployment']]\n",
    "\n",
    "y = df['had_shootings']\n",
    "\n",
    "# X_train_val, X_test, y_train_val, y_test = train_test_split(X, y, test_size=0.2)\n",
    "X_tr, X_te, y_tr, y_te = train_test_split(X, y, test_size = 0.2, random_state = 43)"
   ]
  },
  {
   "cell_type": "code",
   "execution_count": 56,
   "metadata": {},
   "outputs": [
    {
     "name": "stdout",
     "output_type": "stream",
     "text": [
      "f1 score: 0.42990654205607476 \n",
      "recall score: 0.7931034482758621\n"
     ]
    }
   ],
   "source": [
    "# get baseline model:\n",
    "lr = LogisticRegression(solver='lbfgs')\n",
    "lr.fit(X_tr, y_tr)\n",
    "f1 = f1_score(lr.predict(X_te), y_te)\n",
    "recall = recall_score(lr.predict(X_te), y_te)\n",
    "print('f1 score: {} \\nrecall score: {}'.format(f1, recall))"
   ]
  },
  {
   "cell_type": "code",
   "execution_count": 49,
   "metadata": {},
   "outputs": [
    {
     "data": {
      "text/plain": [
       "array([[ 2.46749843e-05, -1.50083336e-02,  7.07398496e-03,\n",
       "        -7.41579076e-03, -2.82307547e-02,  4.95119799e-03,\n",
       "         1.36247307e-03,  2.45479218e-04,  1.77867309e-05,\n",
       "        -4.28932383e-05, -2.76047558e-04, -8.99578898e-03,\n",
       "        -1.54869933e-03, -2.27458742e-03,  7.62988342e-03,\n",
       "        -1.30050061e-02, -7.38758635e-03,  7.54200190e-03,\n",
       "        -2.64103042e-03, -2.52189194e-03, -1.21359151e-02,\n",
       "        -1.45440614e-03, -5.32242842e-03, -6.60174482e-03,\n",
       "        -5.85657953e-05,  1.06088120e-02, -1.01846561e-02,\n",
       "        -1.65881139e-02, -4.61097167e-04,  3.13308658e-04]])"
      ]
     },
     "execution_count": 49,
     "metadata": {},
     "output_type": "execute_result"
    }
   ],
   "source": [
    "lr.coef_"
   ]
  },
  {
   "cell_type": "code",
   "execution_count": 60,
   "metadata": {},
   "outputs": [
    {
     "name": "stdout",
     "output_type": "stream",
     "text": [
      "f1 score: 0.55 \n",
      "recall score: 0.7857142857142857\n"
     ]
    }
   ],
   "source": [
    "# Trees\n",
    "randomforest = RandomForestClassifier(n_estimators=100)\n",
    "randomforest.fit(X_tr, y_tr)\n",
    "f1 = f1_score(randomforest.predict(X_te), y_te)\n",
    "recall = recall_score(randomforest.predict(X_te), y_te)\n",
    "print('f1 score: {} \\nrecall score: {}'.format(f1, recall))"
   ]
  },
  {
   "cell_type": "code",
   "execution_count": 61,
   "metadata": {},
   "outputs": [],
   "source": [
    "# Maybe it would be better to streamline this:\n",
    "def quick_test(model, X, y):\n",
    "    xtrain, xtest, ytrain, ytest = train_test_split(X, y, test_size=0.2)\n",
    "    model.fit(xtrain, ytrain)\n",
    "    f1 = f1_score(model.predict(xtest), ytest)\n",
    "    recall = recall_score(model.predict(xtest), ytest)\n",
    "    return (f1, recall)\n",
    "\n",
    "def quick_test_afew_times(model, X, y, n=10):\n",
    "    f1_list = []\n",
    "    recall_list = []\n",
    "    for test_num in range(n):\n",
    "        f1, recall = quick_test(model, X, y)\n",
    "        f1_list.append(f1)\n",
    "        recall_list.append(recall)\n",
    "    return (np.mean(f1_list), np.mean(recall_list))"
   ]
  },
  {
   "cell_type": "code",
   "execution_count": 65,
   "metadata": {},
   "outputs": [
    {
     "data": {
      "text/plain": [
       "(0.4797232556236485, 0.7681673027471243)"
      ]
     },
     "execution_count": 65,
     "metadata": {},
     "output_type": "execute_result"
    }
   ],
   "source": [
    "# Logistic Regression\n",
    "lr = LogisticRegression(solver='lbfgs')\n",
    "quick_test_afew_times(lr, X, y)"
   ]
  },
  {
   "cell_type": "code",
   "execution_count": 67,
   "metadata": {},
   "outputs": [
    {
     "data": {
      "text/plain": [
       "(0.5215408150597777, 0.7031286522697736)"
      ]
     },
     "execution_count": 67,
     "metadata": {},
     "output_type": "execute_result"
    }
   ],
   "source": [
    "# Random Forests\n",
    "randomforest = RandomForestClassifier(n_estimators=100)\n",
    "quick_test_afew_times(randomforest, X, y)"
   ]
  },
  {
   "cell_type": "code",
   "execution_count": 79,
   "metadata": {},
   "outputs": [
    {
     "data": {
      "text/plain": [
       "(0.47139217868606514, 0.7053028097309346)"
      ]
     },
     "execution_count": 79,
     "metadata": {},
     "output_type": "execute_result"
    }
   ],
   "source": [
    "# Decision Trees\n",
    "decisiontree = DecisionTreeClassifier(max_depth=3)\n",
    "quick_test_afew_times(decisiontree, X, y)"
   ]
  },
  {
   "cell_type": "code",
   "execution_count": 82,
   "metadata": {},
   "outputs": [
    {
     "data": {
      "text/plain": [
       "(0.34085809517999854, 0.421271662202584)"
      ]
     },
     "execution_count": 82,
     "metadata": {},
     "output_type": "execute_result"
    }
   ],
   "source": [
    "# Linear SVC\n",
    "linearsvc = LinearSVC()\n",
    "quick_test_afew_times(linearsvc, X, y)"
   ]
  },
  {
   "cell_type": "code",
   "execution_count": 83,
   "metadata": {},
   "outputs": [
    {
     "data": {
      "text/plain": [
       "(0.02702345004325992, 0.26172161172161174)"
      ]
     },
     "execution_count": 83,
     "metadata": {},
     "output_type": "execute_result"
    }
   ],
   "source": [
    "# SVC\n",
    "svc = SVC(gamma='scale')\n",
    "quick_test_afew_times(svc, X, y)"
   ]
  },
  {
   "cell_type": "code",
   "execution_count": null,
   "metadata": {},
   "outputs": [],
   "source": []
  }
 ],
 "metadata": {
  "kernelspec": {
   "display_name": "Python 3",
   "language": "python",
   "name": "python3"
  },
  "language_info": {
   "codemirror_mode": {
    "name": "ipython",
    "version": 3
   },
   "file_extension": ".py",
   "mimetype": "text/x-python",
   "name": "python",
   "nbconvert_exporter": "python",
   "pygments_lexer": "ipython3",
   "version": "3.7.2"
  }
 },
 "nbformat": 4,
 "nbformat_minor": 2
}
